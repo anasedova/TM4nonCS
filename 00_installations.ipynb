{
 "cells": [
  {
   "cell_type": "markdown",
   "metadata": {},
   "source": [
    "## Lecture 0. Installing Python and Jupyter Notebook.\n",
    "\n",
    "### Step by Step instruction"
   ]
  },
  {
   "cell_type": "markdown",
   "metadata": {},
   "source": [
    "In the next lectures, we are going to write a couple of simple scipts in Python using a tool called Jupiter Notebook. So, we need to install: \n",
    "- Python (a programming language we are going to use)\n",
    "- Jupyter Notebook (a tool which we will use to write in this language)\n",
    "\n",
    "Both of them (and many other usefull toools) are included in a package Anaconda. By installing it we will get access to everything.\n",
    "\n",
    "### Anaconda installation\n",
    "\n",
    "1. Download the latest Anaconda version for your operational system (MacOS, Windows, Linux) from this website: https://www.anaconda.com/products/individual\n",
    "\n",
    "2. Install the Anaconda which you downloaded, following the instructions on the download page.\n",
    "\n",
    "The next step would be to run a Jupyter Notebook. "
   ]
  },
  {
   "cell_type": "markdown",
   "metadata": {},
   "source": [
    "### Jupyter Notebook\n",
    "\n",
    "We are going to run Jupyter Notebook via the *command line* (in Windows)/*terminal* (in MacOS). Command line is a program that takes in commands, which it passes on to the computer's operating system to run. From the command line, you can navigate through files and folders on your computer, just as you would with Windows Explorer on Windows or Finder on Mac OS. The difference is that the command line is fully text-based.\n",
    "\n",
    "The command line is a standart application and it is already installed on everty computer. So, we only need to open it.\n",
    "\n",
    "#### How to open the command line on Windows\n",
    "\n",
    "1. Open the Windows search bar in the bottom-left corner of your screen\n",
    "1. Type *Command Prompt*\n",
    "2. Click the *Command Prompt* app in the search results\n",
    "\n",
    "[<img src=\"https://images.idgesg.net/images/article/2021/08/search-for-command-prompt-in-windows-search-100900875-large.jpg?auto=webp&auto=webp&quality=85,70\">]()\n",
    "\n",
    "#### How to open the terminal on MacOS\n",
    "\n",
    "1. Press the *Command* button and the space bar, simultaneously (this will open a search bar on your screen).\n",
    "2. Type *Terminal* \n",
    "3. Double click *Terminal* in the left sidebar to open your Mac's Terminal\n",
    "\n",
    "[<img src=\"https://i.insider.com/5cd9cf94021b4c2bdf40fca8?width=1300&format=jpeg&auto=webp\">](https://www.businessinsider.com/how-to-open-terminal-on-mac)"
   ]
  },
  {
   "cell_type": "markdown",
   "metadata": {},
   "source": [
    "#### How to run Jupyter Notebook\n",
    "\n",
    "In command line you should type the following command: \n",
    "\n",
    "`jupyter notebook`\n",
    "\n",
    "This command will open the notebook in your default web browser.\n",
    "\n",
    "When the notebook opens in your browser, you will see the Notebook Dashboard, which will show a list of the notebooks, files, and subdirectories in the directory where the notebook server was started. Most of the time, you will wish to start a notebook server in the highest level directory containing notebooks. Often this will be your home directory.\n",
    "\n",
    "[<img src=\"https://docs.jupyter.org/en/latest/_images/tryjupyter_file.png\">](https://docs.jupyter.org/en/latest/_images/tryjupyter_file.png)\n",
    "\n",
    "You can navigate in web Jupiter Notebook the same way as you navigate in your PC file system. Just find the folder where the notebooks are stored and click on the notebook you want to open. Congrats! You are ready to work with it."
   ]
  }
 ],
 "metadata": {
  "kernelspec": {
   "display_name": "knodle_clean",
   "language": "python",
   "name": "knodle_clean"
  },
  "language_info": {
   "codemirror_mode": {
    "name": "ipython",
    "version": 3
   },
   "file_extension": ".py",
   "mimetype": "text/x-python",
   "name": "python",
   "nbconvert_exporter": "python",
   "pygments_lexer": "ipython3",
   "version": "3.8.3"
  }
 },
 "nbformat": 4,
 "nbformat_minor": 4
}
